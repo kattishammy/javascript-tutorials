{
 "cells": [
  {
   "cell_type": "markdown",
   "metadata": {},
   "source": [
    "## JQuery Tutorial\n",
    "JQuery is a Javascript Library, and it simplifies the JS Programming"
   ]
  },
  {
   "cell_type": "code",
   "execution_count": 4,
   "metadata": {},
   "outputs": [
    {
     "data": {
      "text/html": [
       "<!DOCTYPE html>\n",
       "<html>\n",
       "<head>\n",
       "<script src=\"https://ajax.googleapis.com/ajax/libs/jquery/3.4.1/jquery.min.js\"></script>\n",
       "<script>\n",
       "$(document).ready(function(){\n",
       "  $(\"p\").click(function(){\n",
       "    $(this).hide();\n",
       "  });\n",
       "});\n",
       "</script>\n",
       "</head>\n",
       "<body>\n",
       "\n",
       "<p>If you click on me, I will disappear.</p>\n",
       "<p>Click me away!</p>\n",
       "<p>Click me too!</p>\n",
       "\n",
       "</body>\n",
       "</html>\n"
      ],
      "text/plain": [
       "<IPython.core.display.HTML object>"
      ]
     },
     "metadata": {},
     "output_type": "display_data"
    }
   ],
   "source": [
    "%%html\n",
    "<!DOCTYPE html>\n",
    "<html>\n",
    "<head>\n",
    "<script src=\"https://ajax.googleapis.com/ajax/libs/jquery/3.4.1/jquery.min.js\"></script>\n",
    "<script>\n",
    "$(document).ready(function(){\n",
    "  $(\"p\").click(function(){\n",
    "    $(this).hide();\n",
    "  });\n",
    "});\n",
    "</script>\n",
    "</head>\n",
    "<body>\n",
    "\n",
    "<p>If you click on me, I will disappear.</p>\n",
    "<p>Click me away!</p>\n",
    "<p>Click me too!</p>\n",
    "\n",
    "</body>\n",
    "</html>"
   ]
  },
  {
   "cell_type": "markdown",
   "metadata": {},
   "source": [
    "The purpose of jQuery is to make it much easier to use JavaScript on your website.<br>\n",
    "### What You Should Already Know\n",
    "Before you start studying jQuery, you should have a basic knowledge of:<br>\n",
    "* HTML<br>\n",
    "* CSS<br>\n",
    "* JavaScript<br>\n",
    "\n",
    "### What is jQuery?\n",
    "jQuery is a lightweight, \"write less, do more\", JavaScript library.<br>\n",
    "The purpose of jQuery is to make it much easier to use JavaScript on your website.<br>\n",
    "jQuery takes a lot of common tasks that require many lines of JavaScript code to accomplish, and wraps them into methods that you can call with a single line of code.<br>\n",
    "jQuery also simplifies a lot of the complicated things from JavaScript, like AJAX calls and DOM manipulation.<br>\n",
    "The jQuery library contains the following features:<br>\n",
    "* HTML/DOM manipulation\n",
    "* CSS manipulation\n",
    "* HTML event methods\n",
    "* Effects and animations\n",
    "* AJAX\n",
    "* Utilities\n",
    "\n",
    "There are lots of other JavaScript libraries out there, but jQuery is probably the most popular, and also the most extendable.<br>\n",
    "### Adding jQuery to Your Web Pages\n",
    "There are several ways to start using jQuery on your web site. You can:\n",
    "* Download the jQuery library from jQuery.com\n",
    "* Include jQuery from a CDN, like Google\n",
    "\n",
    "### Downloading jQuery\n",
    "There are two versions of jQuery available for downloading:\n",
    "* Production version - this is for your live website because it has been minified and compressed\n",
    "* Development version - this is for testing and development (uncompressed and readable code)\n",
    "\n",
    "Both the versions are available at JQuery.com<br>\n",
    "The jQuery library is a single JavaScript file, and you reference it with the HTML `<script> tag (notice that the <script> tag should be inside the <head> section)`:"
   ]
  },
  {
   "cell_type": "raw",
   "metadata": {},
   "source": [
    "<head>\n",
    "<script src=\"jquery-3.4.1.min.js\"></script>\n",
    "</head>"
   ]
  },
  {
   "cell_type": "markdown",
   "metadata": {},
   "source": [
    "Do you wonder why we do not have type=\"text/javascript\" inside the `<script>` tag?<br>\n",
    "This is not required in HTML5. JavaScript is the default scripting language in HTML5 and in all modern browsers!\n",
    "### jQuery CDN\n",
    "If you don't want to download and host jQuery yourself, you can include it from a CDN (Content Delivery Network).\n",
    "Both Google and Microsoft host jQuery.\n",
    "To use jQuery from Google or Microsoft, use one of the following:"
   ]
  },
  {
   "cell_type": "code",
   "execution_count": 5,
   "metadata": {},
   "outputs": [
    {
     "data": {
      "text/html": [
       "<!DOCTYPE html>\n",
       "<html>\n",
       "<head>\n",
       "<script src=\"https://ajax.googleapis.com/ajax/libs/jquery/3.4.1/jquery.min.js\"></script>\n",
       "<script>\n",
       "$(document).ready(function(){\n",
       "  $(\"button\").click(function(){\n",
       "    $(\"p\").hide();\n",
       "  });\n",
       "});\n",
       "</script>\n",
       "</head>\n",
       "<body>\n",
       "\n",
       "<h2>This is a heading</h2>\n",
       "\n",
       "<p>This is a paragraph.</p>\n",
       "<p>This is another paragraph.</p>\n",
       "\n",
       "<button>Click me</button>\n",
       "\n",
       "</body>\n",
       "</html>\n"
      ],
      "text/plain": [
       "<IPython.core.display.HTML object>"
      ]
     },
     "metadata": {},
     "output_type": "display_data"
    }
   ],
   "source": [
    "%%html\n",
    "<!DOCTYPE html>\n",
    "<html>\n",
    "<head>\n",
    "<script src=\"https://ajax.googleapis.com/ajax/libs/jquery/3.4.1/jquery.min.js\"></script>\n",
    "<script>\n",
    "$(document).ready(function(){\n",
    "  $(\"button\").click(function(){\n",
    "    $(\"p\").hide();\n",
    "  });\n",
    "});\n",
    "</script>\n",
    "</head>\n",
    "<body>\n",
    "\n",
    "<h2>This is a heading</h2>\n",
    "\n",
    "<p>This is a paragraph.</p>\n",
    "<p>This is another paragraph.</p>\n",
    "\n",
    "<button>Click me</button>\n",
    "\n",
    "</body>\n",
    "</html>"
   ]
  },
  {
   "cell_type": "code",
   "execution_count": 7,
   "metadata": {},
   "outputs": [
    {
     "data": {
      "text/html": [
       "<!DOCTYPE html>\n",
       "<html>\n",
       "<head>\n",
       "<script src=\"https://ajax.aspnetcdn.com/ajax/jQuery/jquery-3.4.1.min.js\">\n",
       "</script>\n",
       "<script>\n",
       "$(document).ready(function(){\n",
       "  $(\"button\").click(function(){\n",
       "    $(\"p\").hide();\n",
       "  });\n",
       "});\n",
       "</script>\n",
       "</head>\n",
       "<body>\n",
       "\n",
       "<h2>This is a heading</h2>\n",
       "\n",
       "<p>This is a paragraph.</p>\n",
       "<p>This is another paragraph.</p>\n",
       "\n",
       "<button>Click me</button>\n",
       "\n",
       "</body>\n",
       "</html>\n"
      ],
      "text/plain": [
       "<IPython.core.display.HTML object>"
      ]
     },
     "metadata": {},
     "output_type": "display_data"
    }
   ],
   "source": [
    "%%html\n",
    "<!DOCTYPE html>\n",
    "<html>\n",
    "<head>\n",
    "<script src=\"https://ajax.aspnetcdn.com/ajax/jQuery/jquery-3.4.1.min.js\">\n",
    "</script>\n",
    "<script>\n",
    "$(document).ready(function(){\n",
    "  $(\"button\").click(function(){\n",
    "    $(\"p\").hide();\n",
    "  });\n",
    "});\n",
    "</script>\n",
    "</head>\n",
    "<body>\n",
    "\n",
    "<h2>This is a heading</h2>\n",
    "\n",
    "<p>This is a paragraph.</p>\n",
    "<p>This is another paragraph.</p>\n",
    "\n",
    "<button>Click me</button>\n",
    "\n",
    "</body>\n",
    "</html>\n"
   ]
  },
  {
   "cell_type": "markdown",
   "metadata": {},
   "source": [
    "### jQuery Syntax\n",
    "The jQuery syntax is tailor-made for selecting HTML elements and performing some action on the element(s).<br>\n",
    "Basic syntax is: `$(selector).action()`\n",
    "* $ sign to define/access jQuery\n",
    "* (selector) to \"query (or find)\" HTML elements\n",
    "* jQuery action() to be performed on the element(s)\n",
    "\n",
    "Examples:\n",
    "* `$(this).hide()` - hides the current element.\n",
    "* `$(\"p\").hide()` - hides all `<p>` elements.\n",
    "* `$(\".test\").hide()` - hides all elements with class=\"test\".\n",
    "* `$(\"#test\").hide()` - hides the element with id=\"test\"."
   ]
  },
  {
   "cell_type": "markdown",
   "metadata": {},
   "source": [
    "### The Document Ready Event\n",
    "You might have noticed that all jQuery methods in our examples, are inside a document ready event:"
   ]
  },
  {
   "cell_type": "raw",
   "metadata": {},
   "source": [
    "$(document).ready(function(){\n",
    "  // jQuery methods go here...\n",
    "});"
   ]
  },
  {
   "cell_type": "markdown",
   "metadata": {},
   "source": [
    "This is to prevent any jQuery code from running before the document is finished loading (is ready).<br>\n",
    "It is good practice to wait for the document to be fully loaded and ready before working with it. This also allows you to have your JavaScript code before the body of your document, in the head section.<br>\n",
    "Here are some examples of actions that can fail if methods are run before the document is fully loaded:\n",
    "* Trying to hide an element that is not created yet\n",
    "* Trying to get the size of an image that is not loaded yet\n",
    "\n",
    "Tip: The jQuery team has also created an even shorter method for the document ready event:"
   ]
  },
  {
   "cell_type": "raw",
   "metadata": {},
   "source": [
    "$(function(){\n",
    "  // jQuery methods go here...\n",
    "});"
   ]
  },
  {
   "cell_type": "markdown",
   "metadata": {},
   "source": [
    "### jQuery Selectors\n",
    "* jQuery selectors allow you to select and manipulate HTML element(s).\n",
    "* jQuery selectors are used to \"find\" (or select) HTML elements based on their name, id, classes, types, attributes, values of attributes and much more. It's based on the existing CSS Selectors, and in addition, it has some own custom selectors.\n",
    "* All selectors in jQuery start with the dollar sign and parentheses: `$()`\n",
    "\n",
    "### The element Selector\n",
    "* The jQuery element selector selects elements based on the element name.\n",
    "* You can select all `<p>` elements on a page like this -> `$(\"p\")`"
   ]
  },
  {
   "cell_type": "code",
   "execution_count": 10,
   "metadata": {},
   "outputs": [
    {
     "data": {
      "text/html": [
       "<!DOCTYPE html>\n",
       "<html>\n",
       "<head>\n",
       "<script src=\"https://ajax.googleapis.com/ajax/libs/jquery/3.4.1/jquery.min.js\"></script>\n",
       "<script>\n",
       "$(document).ready(function(){\n",
       "  $(\"button\").click(function(){\n",
       "    $(\"p\").hide();\n",
       "  });\n",
       "});\n",
       "</script>\n",
       "</head>\n",
       "<body>\n",
       "\n",
       "<h2>This is a heading</h2>\n",
       "\n",
       "<p>This is a paragraph.</p>\n",
       "<p>This is another paragraph.</p>\n",
       "\n",
       "<button>Click me to hide paragraphs</button>\n",
       "\n",
       "</body>\n",
       "</html>\n"
      ],
      "text/plain": [
       "<IPython.core.display.HTML object>"
      ]
     },
     "metadata": {},
     "output_type": "display_data"
    }
   ],
   "source": [
    "%%html\n",
    "<!DOCTYPE html>\n",
    "<html>\n",
    "<head>\n",
    "<script src=\"https://ajax.googleapis.com/ajax/libs/jquery/3.4.1/jquery.min.js\"></script>\n",
    "<script>\n",
    "$(document).ready(function(){\n",
    "  $(\"button\").click(function(){\n",
    "    $(\"p\").hide();\n",
    "  });\n",
    "});\n",
    "</script>\n",
    "</head>\n",
    "<body>\n",
    "\n",
    "<h2>This is a heading</h2>\n",
    "\n",
    "<p>This is a paragraph.</p>\n",
    "<p>This is another paragraph.</p>\n",
    "\n",
    "<button>Click me to hide paragraphs</button>\n",
    "\n",
    "</body>\n",
    "</html>"
   ]
  },
  {
   "cell_type": "markdown",
   "metadata": {},
   "source": [
    "### The #id Selector\n",
    "* The jQuery #id selector uses the id attribute of an HTML tag to find the specific element.<br>\n",
    "* An id should be unique within a page, so you should use the #id selector when you want to find a single, unique element.<br>\n",
    "* To find an element with a specific id, write a hash character, followed by the id of the HTML element: `$(\"#test\")`"
   ]
  },
  {
   "cell_type": "code",
   "execution_count": 13,
   "metadata": {},
   "outputs": [
    {
     "data": {
      "text/html": [
       "<!DOCTYPE html>\n",
       "<html>\n",
       "<head>\n",
       "<script src=\"https://ajax.googleapis.com/ajax/libs/jquery/3.4.1/jquery.min.js\"></script>\n",
       "<script>\n",
       "$(document).ready(function(){\n",
       "  $(\"button\").click(function(){\n",
       "    $(\"#test\").hide();\n",
       "  });\n",
       "});\n",
       "</script>\n",
       "</head>\n",
       "<body>\n",
       "\n",
       "<h2>This is a heading</h2>\n",
       "\n",
       "<p>This is a paragraph.</p>\n",
       "<p id=\"test\">This is another paragraph.</p>\n",
       "\n",
       "<button>Click me</button>\n",
       "\n",
       "</body>\n",
       "</html>\n"
      ],
      "text/plain": [
       "<IPython.core.display.HTML object>"
      ]
     },
     "metadata": {},
     "output_type": "display_data"
    }
   ],
   "source": [
    "%%html\n",
    "<!DOCTYPE html>\n",
    "<html>\n",
    "<head>\n",
    "<script src=\"https://ajax.googleapis.com/ajax/libs/jquery/3.4.1/jquery.min.js\"></script>\n",
    "<script>\n",
    "$(document).ready(function(){\n",
    "  $(\"button\").click(function(){\n",
    "    $(\"#test\").hide();\n",
    "  });\n",
    "});\n",
    "</script>\n",
    "</head>\n",
    "<body>\n",
    "\n",
    "<h2>This is a heading</h2>\n",
    "\n",
    "<p>This is a paragraph.</p>\n",
    "<p id=\"test\">This is another paragraph.</p>\n",
    "\n",
    "<button>Click me</button>\n",
    "\n",
    "</body>\n",
    "</html>"
   ]
  },
  {
   "cell_type": "markdown",
   "metadata": {},
   "source": [
    "### The .class Selector\n",
    "* The jQuery .class selector finds elements with a specific class.\n",
    "* To find elements with a specific class, write a period character, followed by the name of the class: `$(\".test\")`\n",
    "\n",
    "Example:\n",
    "When a user clicks on a button, the elements with class=\"test\" will be hidden:"
   ]
  },
  {
   "cell_type": "code",
   "execution_count": 14,
   "metadata": {},
   "outputs": [
    {
     "data": {
      "text/html": [
       "<!DOCTYPE html>\n",
       "<html>\n",
       "<head>\n",
       "<script src=\"https://ajax.googleapis.com/ajax/libs/jquery/3.4.1/jquery.min.js\"></script>\n",
       "<script>\n",
       "$(document).ready(function(){\n",
       "  $(\"button\").click(function(){\n",
       "    $(\".test\").hide();\n",
       "  });\n",
       "});\n",
       "</script>\n",
       "</head>\n",
       "<body>\n",
       "\n",
       "<h2 class=\"test\">This is a heading</h2>\n",
       "\n",
       "<p class=\"test\">This is a paragraph.</p>\n",
       "<p>This is another paragraph.</p>\n",
       "\n",
       "<button>Click me</button>\n",
       "\n",
       "</body>\n",
       "</html>\n"
      ],
      "text/plain": [
       "<IPython.core.display.HTML object>"
      ]
     },
     "metadata": {},
     "output_type": "display_data"
    }
   ],
   "source": [
    "%%html\n",
    "<!DOCTYPE html>\n",
    "<html>\n",
    "<head>\n",
    "<script src=\"https://ajax.googleapis.com/ajax/libs/jquery/3.4.1/jquery.min.js\"></script>\n",
    "<script>\n",
    "$(document).ready(function(){\n",
    "  $(\"button\").click(function(){\n",
    "    $(\".test\").hide();\n",
    "  });\n",
    "});\n",
    "</script>\n",
    "</head>\n",
    "<body>\n",
    "\n",
    "<h2 class=\"test\">This is a heading</h2>\n",
    "\n",
    "<p class=\"test\">This is a paragraph.</p>\n",
    "<p>This is another paragraph.</p>\n",
    "\n",
    "<button>Click me</button>\n",
    "\n",
    "</body>\n",
    "</html>"
   ]
  },
  {
   "cell_type": "markdown",
   "metadata": {},
   "source": [
    "Selector | Description\n",
    "-----------------------------|-------------------------------\n",
    "`$(\"*\")` | Selects all elements\n",
    "`$(this)`| Selects the current HTML element\n",
    "`$(\"p.intro\")` | Selects all `<p>` elements with class=\"intro\"\n",
    "`$(\"p:first\")` | Selects the first `<p>` element\n",
    "`$(\"ul li:first\")` | Selects the first `<li>` element of the first `<ul>`\n",
    "`$(\"ul li:first-child\")` | Selects the first `<li>` element of every `<ul>`\n",
    "`$(\"[href]\")` | Selects all elements with an href attribute\n",
    "`$(\"a[target='_blank']\")` | Selects all `<a>` elements with a target attribute value equal to `_blank`\n",
    "`$(\"a[target!='_blank']\")` | Selects all `<a>` elements with a target attribute value equal to `_blank`\n",
    "`$(\":button\")` | Selects all `<button>` elements and `<input>` elements of type=\"button\"\n",
    "`$(\"tr:even\")` | Selects all even `<tr>` elements\n",
    "`$(\"tr:odd\")` | Selects all odd `<tr>` elements\n",
    "\n",
    "`https://www.w3schools.com/jquery/trysel.asp` Please refer for selectors.\n",
    "\n",
    "### Functions In a Separate File\n",
    "If your website contains a lot of pages, and you want your jQuery functions to be easy to maintain, you can put your jQuery functions in a separate .js file.\n",
    "\n",
    "When we demonstrate jQuery in this tutorial, the functions are added directly into the `<head>` section. However, sometimes it is preferable to place them in a separate file, like this (use the src attribute to refer to the .js file):"
   ]
  },
  {
   "cell_type": "raw",
   "metadata": {},
   "source": [
    "<head>\n",
    "<script src=\"https://ajax.googleapis.com/ajax/libs/jquery/3.4.1/jquery.min.js\"></script>\n",
    "<script src=\"my_jquery_functions.js\"></script>\n",
    "</head>"
   ]
  },
  {
   "cell_type": "markdown",
   "metadata": {},
   "source": [
    "### jQuery Event Methods\n",
    "jQuery is tailor-made to respond to events in an HTML page.<br>\n",
    "All the different visitors' actions that a web page can respond to are called events.<br>\n",
    "An event represents the precise moment when something happens.<br>\n",
    "Examples:\n",
    "* moving a mouse over an element\n",
    "* selecting a radio button\n",
    "* clicking on an element\n",
    "\n",
    "The term \"fires/fired\" is often used with events. Example: \"The keypress event is fired, the moment you press a key\".<br>\n",
    "Here are some common DOM events:<br>\n",
    "\n",
    "Mouse Events | Keyboard Events | Form Events | Documents Events\n",
    "-------------|-----------------|-------------|-----------------\n",
    "click | keypress | submit | load\n",
    "dbclick | keydown | change | resize\n",
    "mouse enter | key up | focus | scroll\n",
    "mouse leave | | blur | unload\n",
    "\n",
    "### jQuery Syntax For Event Methods\n",
    "In jQuery, most DOM events have an equivalent jQuery method.<br>\n",
    "To assign a click event to all paragraphs on a page, you can do this:<br>\n",
    "`$(\"p\").click();`\n",
    "The next step is to define what should happen when the event fires. You must pass a function to the event:"
   ]
  },
  {
   "cell_type": "raw",
   "metadata": {},
   "source": [
    "$(\"p\").click(function(){\n",
    "  // action goes here!!\n",
    "});"
   ]
  },
  {
   "cell_type": "markdown",
   "metadata": {},
   "source": [
    "### Commonly Used jQuery Event Methods\n",
    "#### `$(document).ready()`\n",
    "* The `$(document).ready()` method allows us to execute a function when the document is fully loaded. This event is already explained in the jQuery Syntax chapter.<br>\n",
    "\n",
    "#### `click()`\n",
    "* The click() method attaches an event handler function to an HTML element.<br>\n",
    "* The function is executed when the user clicks on the HTML element.<br>\n",
    "* The following example says: When a click event fires on a `<p>` element; hide the current `<p>` element:"
   ]
  },
  {
   "cell_type": "code",
   "execution_count": 17,
   "metadata": {},
   "outputs": [
    {
     "data": {
      "text/html": [
       "<!DOCTYPE html>\n",
       "<html>\n",
       "<head>\n",
       "<script src=\"https://ajax.googleapis.com/ajax/libs/jquery/3.4.1/jquery.min.js\"></script>\n",
       "<script>\n",
       "$(document).ready(function(){\n",
       "  $(\"p\").click(function(){\n",
       "    $(this).hide();\n",
       "  });\n",
       "});\n",
       "</script>\n",
       "</head>\n",
       "<body>\n",
       "\n",
       "<p>If you click on me, I will disappear.</p>\n",
       "<p>Click me away!</p>\n",
       "<p>Click me too!</p>\n",
       "\n",
       "</body>\n",
       "</html>\n"
      ],
      "text/plain": [
       "<IPython.core.display.HTML object>"
      ]
     },
     "metadata": {},
     "output_type": "display_data"
    }
   ],
   "source": [
    "%%html\n",
    "<!DOCTYPE html>\n",
    "<html>\n",
    "<head>\n",
    "<script src=\"https://ajax.googleapis.com/ajax/libs/jquery/3.4.1/jquery.min.js\"></script>\n",
    "<script>\n",
    "$(document).ready(function(){\n",
    "  $(\"p\").click(function(){\n",
    "    $(this).hide();\n",
    "  });\n",
    "});\n",
    "</script>\n",
    "</head>\n",
    "<body>\n",
    "\n",
    "<p>If you click on me, I will disappear.</p>\n",
    "<p>Click me away!</p>\n",
    "<p>Click me too!</p>\n",
    "\n",
    "</body>\n",
    "</html>"
   ]
  },
  {
   "cell_type": "markdown",
   "metadata": {},
   "source": [
    "#### `dblclick()`\n",
    "The `dblclick()` method attaches an event handler function to an HTML element.\n",
    "The function is executed when the user double-clicks on the HTML element:"
   ]
  },
  {
   "cell_type": "code",
   "execution_count": 18,
   "metadata": {},
   "outputs": [
    {
     "data": {
      "text/html": [
       "<!DOCTYPE html>\n",
       "<html>\n",
       "<head>\n",
       "<script src=\"https://ajax.googleapis.com/ajax/libs/jquery/3.4.1/jquery.min.js\"></script>\n",
       "<script>\n",
       "$(document).ready(function(){\n",
       "  $(\"p\").dblclick(function(){\n",
       "    $(this).hide();\n",
       "  });\n",
       "});\n",
       "</script>\n",
       "</head>\n",
       "<body>\n",
       "\n",
       "<p>If you double-click on me, I will disappear.</p>\n",
       "<p>Click me away!</p>\n",
       "<p>Click me too!</p>\n",
       "\n",
       "</body>\n",
       "</html>\n"
      ],
      "text/plain": [
       "<IPython.core.display.HTML object>"
      ]
     },
     "metadata": {},
     "output_type": "display_data"
    }
   ],
   "source": [
    "%%html\n",
    "<!DOCTYPE html>\n",
    "<html>\n",
    "<head>\n",
    "<script src=\"https://ajax.googleapis.com/ajax/libs/jquery/3.4.1/jquery.min.js\"></script>\n",
    "<script>\n",
    "$(document).ready(function(){\n",
    "  $(\"p\").dblclick(function(){\n",
    "    $(this).hide();\n",
    "  });\n",
    "});\n",
    "</script>\n",
    "</head>\n",
    "<body>\n",
    "\n",
    "<p>If you double-click on me, I will disappear.</p>\n",
    "<p>Click me away!</p>\n",
    "<p>Click me too!</p>\n",
    "\n",
    "</body>\n",
    "</html>"
   ]
  },
  {
   "cell_type": "markdown",
   "metadata": {},
   "source": [
    "#### `mouseenter()`\n",
    "The `mouseenter()` method attaches an event handler function to an HTML element.\n",
    "The function is executed when the mouse pointer enters the HTML element:"
   ]
  },
  {
   "cell_type": "code",
   "execution_count": 22,
   "metadata": {},
   "outputs": [
    {
     "data": {
      "text/html": [
       "<!DOCTYPE html>\n",
       "<html>\n",
       "<head>\n",
       "<script src=\"https://ajax.googleapis.com/ajax/libs/jquery/3.4.1/jquery.min.js\"></script>\n",
       "<script>\n",
       "$(document).ready(function(){\n",
       "  $(\"#p1\").mouseenter(function(){\n",
       "    alert(\"You entered p1!\");\n",
       "  });\n",
       "});\n",
       "</script>\n",
       "</head>\n",
       "<body>\n",
       "\n",
       "<p id=\"p1\">Enter this paragraph.</p>\n",
       "\n",
       "</body>\n",
       "</html>\n"
      ],
      "text/plain": [
       "<IPython.core.display.HTML object>"
      ]
     },
     "metadata": {},
     "output_type": "display_data"
    }
   ],
   "source": [
    "%%html\n",
    "<!DOCTYPE html>\n",
    "<html>\n",
    "<head>\n",
    "<script src=\"https://ajax.googleapis.com/ajax/libs/jquery/3.4.1/jquery.min.js\"></script>\n",
    "<script>\n",
    "$(document).ready(function(){\n",
    "  $(\"#p1\").mouseenter(function(){\n",
    "    alert(\"You entered p1!\");\n",
    "  });\n",
    "});\n",
    "</script>\n",
    "</head>\n",
    "<body>\n",
    "\n",
    "<p id=\"p1\">Enter this paragraph.</p>\n",
    "\n",
    "</body>\n",
    "</html>"
   ]
  },
  {
   "cell_type": "markdown",
   "metadata": {},
   "source": [
    "#### `mouseleave()`\n",
    "The `mouseleave()` method attaches an event handler function to an HTML element.\n",
    "The function is executed when the mouse pointer leaves the HTML element:"
   ]
  },
  {
   "cell_type": "code",
   "execution_count": 31,
   "metadata": {},
   "outputs": [
    {
     "data": {
      "text/html": [
       "<!DOCTYPE html>\n",
       "<html>\n",
       "<head>\n",
       "<script src=\"https://ajax.googleapis.com/ajax/libs/jquery/3.4.1/jquery.min.js\"></script>\n",
       "<script>\n",
       "$(document).ready(function(){\n",
       "  $(\"#p1\").mouseleave(function(){\n",
       "    alert(\"Bye! You now leave p1!\");\n",
       "  });\n",
       "});\n",
       "</script>\n",
       "</head>\n",
       "<body>\n",
       "\n",
       "<p id=\"p1\">This is a paragraph.</p>\n",
       "\n",
       "</body>\n",
       "</html>\n"
      ],
      "text/plain": [
       "<IPython.core.display.HTML object>"
      ]
     },
     "metadata": {},
     "output_type": "display_data"
    }
   ],
   "source": [
    "%%html\n",
    "<!DOCTYPE html>\n",
    "<html>\n",
    "<head>\n",
    "<script src=\"https://ajax.googleapis.com/ajax/libs/jquery/3.4.1/jquery.min.js\"></script>\n",
    "<script>\n",
    "$(document).ready(function(){\n",
    "  $(\"#p1\").mouseleave(function(){\n",
    "    alert(\"Bye! You now leave p1!\");\n",
    "  });\n",
    "});\n",
    "</script>\n",
    "</head>\n",
    "<body>\n",
    "\n",
    "<p id=\"p1\">This is a paragraph.</p>\n",
    "\n",
    "</body>\n",
    "</html>"
   ]
  },
  {
   "cell_type": "markdown",
   "metadata": {},
   "source": [
    "#### `mousedown()`\n",
    "The `mousedown()` method attaches an event handler function to an HTML element.\n",
    "The function is executed, when the left, middle or right mouse button is pressed down, while the mouse is over the HTML element:\n",
    "#### `mouseup()`\n",
    "The `mouseup()` method attaches an event handler function to an HTML element.\n",
    "The function is executed, when the left, middle or right mouse button is released, while the mouse is over the HTML element:\n",
    "#### `hover()`\n",
    "The `hover()` method takes two functions and is a combination of the `mouseenter()` and `mouseleave()` methods.\n",
    "The first function is executed when the mouse enters the HTML element, and the second function is executed when the mouse leaves the HTML element:\n",
    "#### `focus()`\n",
    "The `focus()` method attaches an event handler function to an HTML form field.\n",
    "The function is executed when the form field gets focus:"
   ]
  },
  {
   "cell_type": "code",
   "execution_count": 26,
   "metadata": {},
   "outputs": [
    {
     "data": {
      "text/html": [
       "<!DOCTYPE html>\n",
       "<html>\n",
       "<head>\n",
       "<script src=\"https://ajax.googleapis.com/ajax/libs/jquery/3.4.1/jquery.min.js\"></script>\n",
       "<script>\n",
       "$(document).ready(function(){\n",
       "  $(\"input\").focus(function(){\n",
       "    $(this).css(\"background-color\", \"yellow\");\n",
       "  });\n",
       "  $(\"input\").blur(function(){\n",
       "    $(this).css(\"background-color\", \"green\");\n",
       "  });\n",
       "});\n",
       "</script>\n",
       "</head>\n",
       "<body>\n",
       "\n",
       "Name: <input type=\"text\" name=\"fullname\"><br>\n",
       "Email: <input type=\"text\" name=\"email\">\n",
       "\n",
       "</body>\n",
       "</html>\n"
      ],
      "text/plain": [
       "<IPython.core.display.HTML object>"
      ]
     },
     "metadata": {},
     "output_type": "display_data"
    }
   ],
   "source": [
    "%%html\n",
    "<!DOCTYPE html>\n",
    "<html>\n",
    "<head>\n",
    "<script src=\"https://ajax.googleapis.com/ajax/libs/jquery/3.4.1/jquery.min.js\"></script>\n",
    "<script>\n",
    "$(document).ready(function(){\n",
    "  $(\"input\").focus(function(){\n",
    "    $(this).css(\"background-color\", \"yellow\");\n",
    "  });\n",
    "  $(\"input\").blur(function(){\n",
    "    $(this).css(\"background-color\", \"green\");\n",
    "  });\n",
    "});\n",
    "</script>\n",
    "</head>\n",
    "<body>\n",
    "\n",
    "Name: <input type=\"text\" name=\"fullname\"><br>\n",
    "Email: <input type=\"text\" name=\"email\">\n",
    "\n",
    "</body>\n",
    "</html>"
   ]
  },
  {
   "cell_type": "markdown",
   "metadata": {},
   "source": [
    "#### `blur()`\n",
    "The `blur()` method attaches an event handler function to an HTML form field.\n",
    "The function is executed when the form field loses focus:"
   ]
  },
  {
   "cell_type": "markdown",
   "metadata": {},
   "source": [
    "#### The `on()` Method\n",
    "The `on()` method attaches one or more event handlers for the selected elements.\n",
    "Attach a click event to a `<p>` element:"
   ]
  },
  {
   "cell_type": "code",
   "execution_count": 27,
   "metadata": {},
   "outputs": [
    {
     "data": {
      "text/html": [
       "<!DOCTYPE html>\n",
       "<html>\n",
       "<head>\n",
       "<script src=\"https://ajax.googleapis.com/ajax/libs/jquery/3.4.1/jquery.min.js\"></script>\n",
       "<script>\n",
       "$(document).ready(function(){\n",
       "  $(\"p\").on(\"click\", function(){\n",
       "    $(this).hide();\n",
       "  });\n",
       "});\n",
       "</script>\n",
       "</head>\n",
       "<body>\n",
       "\n",
       "<p>If you click on me, I will disappear.</p>\n",
       "<p>Click me away!</p>\n",
       "<p>Click me too!</p>\n",
       "\n",
       "</body>\n",
       "</html>\n"
      ],
      "text/plain": [
       "<IPython.core.display.HTML object>"
      ]
     },
     "metadata": {},
     "output_type": "display_data"
    }
   ],
   "source": [
    "%%html\n",
    "<!DOCTYPE html>\n",
    "<html>\n",
    "<head>\n",
    "<script src=\"https://ajax.googleapis.com/ajax/libs/jquery/3.4.1/jquery.min.js\"></script>\n",
    "<script>\n",
    "$(document).ready(function(){\n",
    "  $(\"p\").on(\"click\", function(){\n",
    "    $(this).hide();\n",
    "  });\n",
    "});\n",
    "</script>\n",
    "</head>\n",
    "<body>\n",
    "\n",
    "<p>If you click on me, I will disappear.</p>\n",
    "<p>Click me away!</p>\n",
    "<p>Click me too!</p>\n",
    "\n",
    "</body>\n",
    "</html>"
   ]
  },
  {
   "cell_type": "markdown",
   "metadata": {},
   "source": [
    "`Attach multiple event handlers to a <p> element:`"
   ]
  },
  {
   "cell_type": "code",
   "execution_count": 32,
   "metadata": {},
   "outputs": [
    {
     "data": {
      "text/html": [
       "<!DOCTYPE html>\n",
       "<html>\n",
       "<head>\n",
       "<script src=\"https://ajax.googleapis.com/ajax/libs/jquery/3.4.1/jquery.min.js\"></script>\n",
       "<script>\n",
       "$(document).ready(function(){\n",
       "  $(\"p\").on({\n",
       "    mouseenter: function(){\n",
       "      $(this).css(\"background-color\", \"lightgray\");\n",
       "    },  \n",
       "    mouseleave: function(){\n",
       "      $(this).css(\"background-color\", \"lightblue\");\n",
       "    }, \n",
       "    click: function(){\n",
       "      $(this).css(\"background-color\", \"yellow\");\n",
       "    }  \n",
       "  });\n",
       "});\n",
       "</script>\n",
       "</head>\n",
       "<body>\n",
       "\n",
       "<p>Click or move the mouse pointer over this paragraph.</p>\n",
       "\n",
       "</body>\n",
       "</html>\n"
      ],
      "text/plain": [
       "<IPython.core.display.HTML object>"
      ]
     },
     "metadata": {},
     "output_type": "display_data"
    }
   ],
   "source": [
    "%%html\n",
    "<!DOCTYPE html>\n",
    "<html>\n",
    "<head>\n",
    "<script src=\"https://ajax.googleapis.com/ajax/libs/jquery/3.4.1/jquery.min.js\"></script>\n",
    "<script>\n",
    "$(document).ready(function(){\n",
    "  $(\"p\").on({\n",
    "    mouseenter: function(){\n",
    "      $(this).css(\"background-color\", \"lightgray\");\n",
    "    },  \n",
    "    mouseleave: function(){\n",
    "      $(this).css(\"background-color\", \"lightblue\");\n",
    "    }, \n",
    "    click: function(){\n",
    "      $(this).css(\"background-color\", \"yellow\");\n",
    "    }  \n",
    "  });\n",
    "});\n",
    "</script>\n",
    "</head>\n",
    "<body>\n",
    "\n",
    "<p>Click or move the mouse pointer over this paragraph.</p>\n",
    "\n",
    "</body>\n",
    "</html>"
   ]
  },
  {
   "cell_type": "markdown",
   "metadata": {},
   "source": [
    "### jQuery `hide()` and `show()`\n",
    "With jQuery, you can hide and show HTML elements with the `hide()` and `show()` methods:"
   ]
  },
  {
   "cell_type": "code",
   "execution_count": 38,
   "metadata": {},
   "outputs": [
    {
     "data": {
      "text/html": [
       "<!DOCTYPE html>\n",
       "<html>\n",
       "<head>\n",
       "<script src=\"https://ajax.googleapis.com/ajax/libs/jquery/3.4.1/jquery.min.js\"></script>\n",
       "<script>\n",
       "$(document).ready(function(){\n",
       "  $(\"#hide\").click(function(){\n",
       "    $(\"p\").hide(\"slow\");\n",
       "  });\n",
       "  $(\"#show\").click(function(){\n",
       "    $(\"p\").show(\"fast\");\n",
       "  });\n",
       "});\n",
       "</script>\n",
       "</head>\n",
       "<body>\n",
       "\n",
       "<p>If you click on the \"Hide\" button, I will disappear.</p>\n",
       "\n",
       "<button id=\"hide\">Hide</button>\n",
       "<button id=\"show\">Show</button>\n",
       "\n",
       "</body>\n",
       "</html>\n"
      ],
      "text/plain": [
       "<IPython.core.display.HTML object>"
      ]
     },
     "metadata": {},
     "output_type": "display_data"
    }
   ],
   "source": [
    "%%html\n",
    "<!DOCTYPE html>\n",
    "<html>\n",
    "<head>\n",
    "<script src=\"https://ajax.googleapis.com/ajax/libs/jquery/3.4.1/jquery.min.js\"></script>\n",
    "<script>\n",
    "$(document).ready(function(){\n",
    "  $(\"#hide\").click(function(){\n",
    "    $(\"p\").hide(\"slow\");\n",
    "  });\n",
    "  $(\"#show\").click(function(){\n",
    "    $(\"p\").show(\"fast\");\n",
    "  });\n",
    "});\n",
    "</script>\n",
    "</head>\n",
    "<body>\n",
    "\n",
    "<p>If you click on the \"Hide\" button, I will disappear.</p>\n",
    "\n",
    "<button id=\"hide\">Hide</button>\n",
    "<button id=\"show\">Show</button>\n",
    "\n",
    "</body>\n",
    "</html>"
   ]
  },
  {
   "cell_type": "markdown",
   "metadata": {},
   "source": [
    "`$(selector).hide(speed,callback);`<br>\n",
    "`$(selector).show(speed,callback);`<br>\n",
    "* The optional speed parameter specifies the speed of the hiding/showing, and can take the following values: \"slow\", \"fast\", or milliseconds.\n",
    "* The optional callback parameter is a function to be executed after the hide() or show() method completes (you will learn more about callback functions in a later chapter).\n",
    "* The following example demonstrates the speed parameter with hide():"
   ]
  },
  {
   "cell_type": "code",
   "execution_count": 39,
   "metadata": {},
   "outputs": [
    {
     "data": {
      "text/html": [
       "<!DOCTYPE html>\n",
       "<html>\n",
       "<head>\n",
       "<script src=\"https://ajax.googleapis.com/ajax/libs/jquery/3.4.1/jquery.min.js\"></script>\n",
       "<script>\n",
       "$(document).ready(function(){\n",
       "  $(\"button\").click(function(){\n",
       "    $(\"p\").hide(1000);\n",
       "  });\n",
       "});\n",
       "</script>\n",
       "</head>\n",
       "<body>\n",
       "\n",
       "<button>Hide</button>\n",
       "\n",
       "<p>This is a paragraph with little content.</p>\n",
       "<p>This is another small paragraph.</p>\n",
       "\n",
       "</body>\n",
       "</html>\n"
      ],
      "text/plain": [
       "<IPython.core.display.HTML object>"
      ]
     },
     "metadata": {},
     "output_type": "display_data"
    }
   ],
   "source": [
    "%%html\n",
    "<!DOCTYPE html>\n",
    "<html>\n",
    "<head>\n",
    "<script src=\"https://ajax.googleapis.com/ajax/libs/jquery/3.4.1/jquery.min.js\"></script>\n",
    "<script>\n",
    "$(document).ready(function(){\n",
    "  $(\"button\").click(function(){\n",
    "    $(\"p\").hide(1000);\n",
    "  });\n",
    "});\n",
    "</script>\n",
    "</head>\n",
    "<body>\n",
    "\n",
    "<button>Hide</button>\n",
    "\n",
    "<p>This is a paragraph with little content.</p>\n",
    "<p>This is another small paragraph.</p>\n",
    "\n",
    "</body>\n",
    "</html>"
   ]
  },
  {
   "cell_type": "markdown",
   "metadata": {},
   "source": [
    "### jQuery `toggle()`\n",
    "You can also toggle between hiding and showing an element with the toggle() method.\n",
    "Shown elements are hidden and hidden elements are shown:\n",
    "`$(selector).toggle(speed,callback);`\n",
    "\n",
    "### jQuery Fading Methods\n",
    "With jQuery you can fade an element in and out of visibility.\n",
    "jQuery has the following fade methods:\n",
    "\n",
    "* fadeIn() - `$(selector).fadeIn(speed,callback);`\n",
    "* fadeOut() - `$(selector).fadeOut(speed,callback);`\n",
    "* fadeToggle() - `$(selector).fadeToggle(speed,callback);`\n",
    "* fadeTo() - `$(selector).fadeTo(speed,opacity,callback);`\n",
    "\n",
    "speed variable in the respective function will take \"slow\", \"fast\" and milliseconds as values.\n",
    "\n",
    "### jQuery `slide` effect\n",
    "The jQuery slide methods slide elements up and down.<br>\n",
    "jQuery has the following slide methods:\n",
    "\n",
    "* slideDown() - `$(selector).slideDown(speed,callback);`\n",
    "* slideUp() - `$(selector).slideUp(speed,callback);`\n",
    "* slideToggle() - `$(selector).slideToggle(speed,callback);`\n",
    "\n",
    "### jQuery Animations - The `animate()` Method\n",
    "The jQuery animate() method is used to create custom animations.\n",
    "Syntax -> `$(selector).animate({params},speed,callback);`\n",
    "* The required params parameter defines the CSS properties to be animated.\n",
    "* The optional speed parameter specifies the duration of the effect. It can take the following values: \"slow\", \"fast\", or milliseconds.\n",
    "* The optional callback parameter is a function to be executed after the animation completes."
   ]
  },
  {
   "cell_type": "raw",
   "metadata": {},
   "source": [
    "By default, all HTML elements have a static position, and cannot be moved.\n",
    "To manipulate the position, remember to first set the CSS position property of the element to relative, fixed, or absolute!\n",
    "\n",
    "----Is it possible to manipulate ALL CSS properties with the animate() method?-----\n",
    "\n",
    "Yes, almost! However, there is one important thing to remember: all property names must be camel-cased when used with the animate() method: You will need to write paddingLeft instead of padding-left, marginRight instead of margin-right, and so on.\n",
    "\n",
    "Also, color animation is not included in the core jQuery library.\n",
    "If you want to animate color, you need to download the Color Animations plugin from jQuery.com."
   ]
  },
  {
   "cell_type": "code",
   "execution_count": 42,
   "metadata": {},
   "outputs": [
    {
     "data": {
      "text/html": [
       "<!DOCTYPE html>\n",
       "<html>\n",
       "<head>\n",
       "<script src=\"https://ajax.googleapis.com/ajax/libs/jquery/3.4.1/jquery.min.js\"></script>\n",
       "<script> \n",
       "$(document).ready(function(){\n",
       "  $(\"button\").click(function(){\n",
       "    $(\"div\").animate({\n",
       "      left: '250px',\n",
       "      opacity: '0.5',\n",
       "      height: '150px',\n",
       "      width: '150px'\n",
       "    });\n",
       "  });\n",
       "});\n",
       "</script> \n",
       "</head>\n",
       "<body>\n",
       "\n",
       "<button>Start Animation</button>\n",
       "\n",
       "<p>By default, all HTML elements have a static position, and cannot be moved. To manipulate the position, remember to first set the CSS position property of the element to relative, fixed, or absolute!</p>\n",
       "\n",
       "<div style=\"background:#98bf21;height:100px;width:100px;position:absolute;\"></div>\n",
       "\n",
       "</body>\n",
       "</html>\n"
      ],
      "text/plain": [
       "<IPython.core.display.HTML object>"
      ]
     },
     "metadata": {},
     "output_type": "display_data"
    }
   ],
   "source": [
    "%%html\n",
    "<!DOCTYPE html>\n",
    "<html>\n",
    "<head>\n",
    "<script src=\"https://ajax.googleapis.com/ajax/libs/jquery/3.4.1/jquery.min.js\"></script>\n",
    "<script> \n",
    "$(document).ready(function(){\n",
    "  $(\"button\").click(function(){\n",
    "    $(\"div\").animate({\n",
    "      left: '250px',\n",
    "      opacity: '0.5',\n",
    "      height: '150px',\n",
    "      width: '150px'\n",
    "    });\n",
    "  });\n",
    "});\n",
    "</script> \n",
    "</head>\n",
    "<body>\n",
    "\n",
    "<button>Start Animation</button>\n",
    "\n",
    "<p>By default, all HTML elements have a static position, and cannot be moved. To manipulate the position, remember to first set the CSS position property of the element to relative, fixed, or absolute!</p>\n",
    "\n",
    "<div style=\"background:#98bf21;height:100px;width:100px;position:absolute;\"></div>\n",
    "\n",
    "</body>\n",
    "</html>"
   ]
  },
  {
   "cell_type": "raw",
   "metadata": {},
   "source": []
  },
  {
   "cell_type": "raw",
   "metadata": {},
   "source": []
  },
  {
   "cell_type": "raw",
   "metadata": {},
   "source": [
    "$(\"button\").click(function(){\n",
    "  $(\"div\").animate({\n",
    "    height: 'toggle'\n",
    "  });\n",
    "}); "
   ]
  },
  {
   "cell_type": "markdown",
   "metadata": {},
   "source": [
    "You can use predefined values. You can even specify a property's animation value as \"show\", \"hide\", or \"toggle\".\n",
    "### jQuery animate() - Uses Queue Functionality\n",
    "* By default, jQuery comes with queue functionality for animations.\n",
    "* This means that if you write multiple animate() calls after each other, jQuery creates an \"internal\" queue with these method calls. Then it runs the animate calls ONE by ONE.\n",
    "* So, if you want to perform different animations after each other, we take advantage of the queue functionality:"
   ]
  },
  {
   "cell_type": "code",
   "execution_count": 43,
   "metadata": {},
   "outputs": [
    {
     "data": {
      "text/html": [
       "<!DOCTYPE html>\n",
       "<html>\n",
       "<head>\n",
       "<script src=\"https://ajax.googleapis.com/ajax/libs/jquery/3.4.1/jquery.min.js\"></script>\n",
       "<script> \n",
       "$(document).ready(function(){\n",
       "  $(\"button\").click(function(){\n",
       "    var div = $(\"div\");\n",
       "    div.animate({height: '300px', opacity: '0.4'}, \"slow\");\n",
       "    div.animate({width: '300px', opacity: '0.8'}, \"slow\");\n",
       "    div.animate({height: '100px', opacity: '0.4'}, \"slow\");\n",
       "    div.animate({width: '100px', opacity: '0.8'}, \"slow\");\n",
       "  });\n",
       "});\n",
       "</script> \n",
       "</head>\n",
       "<body>\n",
       "\n",
       "<button>Start Animation</button>\n",
       "\n",
       "<p>By default, all HTML elements have a static position, and cannot be moved. To manipulate the position, remember to first set the CSS position property of the element to relative, fixed, or absolute!</p>\n",
       "\n",
       "<div style=\"background:#98bf21;height:100px;width:100px;position:absolute;\"></div>\n",
       "\n",
       "</body>\n",
       "</html>\n"
      ],
      "text/plain": [
       "<IPython.core.display.HTML object>"
      ]
     },
     "metadata": {},
     "output_type": "display_data"
    }
   ],
   "source": [
    "%%html\n",
    "<!DOCTYPE html>\n",
    "<html>\n",
    "<head>\n",
    "<script src=\"https://ajax.googleapis.com/ajax/libs/jquery/3.4.1/jquery.min.js\"></script>\n",
    "<script> \n",
    "$(document).ready(function(){\n",
    "  $(\"button\").click(function(){\n",
    "    var div = $(\"div\");\n",
    "    div.animate({height: '300px', opacity: '0.4'}, \"slow\");\n",
    "    div.animate({width: '300px', opacity: '0.8'}, \"slow\");\n",
    "    div.animate({height: '100px', opacity: '0.4'}, \"slow\");\n",
    "    div.animate({width: '100px', opacity: '0.8'}, \"slow\");\n",
    "  });\n",
    "});\n",
    "</script> \n",
    "</head>\n",
    "<body>\n",
    "\n",
    "<button>Start Animation</button>\n",
    "\n",
    "<p>By default, all HTML elements have a static position, and cannot be moved. To manipulate the position, remember to first set the CSS position property of the element to relative, fixed, or absolute!</p>\n",
    "\n",
    "<div style=\"background:#98bf21;height:100px;width:100px;position:absolute;\"></div>\n",
    "\n",
    "</body>\n",
    "</html>"
   ]
  },
  {
   "cell_type": "raw",
   "metadata": {},
   "source": []
  },
  {
   "cell_type": "raw",
   "metadata": {},
   "source": []
  },
  {
   "cell_type": "markdown",
   "metadata": {},
   "source": [
    "### jQuery `stop()` Method\n",
    "* The jQuery stop() method is used to stop an animation or effect before it is finished.\n",
    "* The stop() method works for all jQuery effect functions, including sliding, fading and custom animations.\n",
    "* Syntax -> `$(selector).stop(stopAll,goToEnd);`\n",
    "* The optional stopAll parameter specifies whether also the animation queue should be cleared or not. Default is false, which means that only the active animation will be stopped, allowing any queued animations to be performed afterwards.\n",
    "* The optional goToEnd parameter specifies whether or not to complete the current animation immediately. Default is false.\n",
    "* So, by default, the stop() method kills the current animation being performed on the selected element.\n",
    "* The following example demonstrates the stop() method, with no parameters:"
   ]
  },
  {
   "cell_type": "raw",
   "metadata": {},
   "source": [
    "$(\"#stop\").click(function(){\n",
    "  $(\"#panel\").stop();\n",
    "});"
   ]
  },
  {
   "cell_type": "markdown",
   "metadata": {},
   "source": [
    "### jQuery `Callback Functions`\n",
    "* A callback function is executed after the current effect is 100% finished.\n",
    "* JavaScript statements are executed line by line. However, with effects, the next line of code can be run even though the effect is not finished. This can create errors.\n",
    "* To prevent this, you can create a callback function.\n",
    "* A callback function is executed after the current effect is finished.\n",
    "* Typical syntax: `$(selector).hide(speed,callback);`\n",
    "\n",
    "The example below has a callback parameter that is a function that will be executed after the hide effect is completed:"
   ]
  },
  {
   "cell_type": "raw",
   "metadata": {},
   "source": [
    "$(\"button\").click(function(){\n",
    "  $(\"p\").hide(\"slow\", function(){\n",
    "    alert(\"The paragraph is now hidden\");\n",
    "  });\n",
    "});"
   ]
  },
  {
   "cell_type": "markdown",
   "metadata": {},
   "source": [
    "The example below has no callback parameter, and the alert box will be displayed before the hide effect is completed:"
   ]
  },
  {
   "cell_type": "raw",
   "metadata": {},
   "source": [
    "$(\"button\").click(function(){\n",
    "  $(\"p\").hide(1000);\n",
    "  alert(\"The paragraph is now hidden\");\n",
    "});"
   ]
  },
  {
   "cell_type": "markdown",
   "metadata": {},
   "source": [
    "### jQuery - `Chaining`\n",
    "* Until now we have been writing jQuery statements one at a time (one after the other).\n",
    "* However, there is a technique called chaining, that allows us to run multiple jQuery commands, one after the other, on the same element(s).\n",
    "* Tip: This way, browsers do not have to find the same element(s) more than once.\n",
    "* To chain an action, you simply append the action to the previous action.\n",
    "* The following example chains together the css(), slideUp(), and slideDown() methods. The \"p1\" element first changes to red, then it slides up, and then it slides down:"
   ]
  },
  {
   "cell_type": "raw",
   "metadata": {},
   "source": [
    "$(\"#p1\").css(\"color\", \"red\")\n",
    "  .slideUp(2000)\n",
    "  .slideDown(2000);"
   ]
  },
  {
   "cell_type": "markdown",
   "metadata": {},
   "source": [
    "### jQuery - Get Content and Attributes\n",
    "* jQuery contains powerful methods for changing and manipulating HTML elements and attributes.\n",
    "* One very important part of jQuery is the possibility to manipulate the DOM.\n",
    "* jQuery comes with a bunch of DOM related methods that make it easy to access and manipulate elements and attributes.\n",
    "* DOM = Document Object Model\n",
    "* The DOM defines a standard for accessing HTML and XML documents:\n",
    "* \"The W3C Document Object Model (DOM) is a platform and language-neutral interface that allows programs and scripts to dynamically access and update the content, structure, and style of a document.\"\n",
    "\n",
    "### Get Content - text(), html(), and val()\n",
    "Three simple, but useful, jQuery methods for DOM manipulation are:\n",
    "* text() - Sets or returns the text content of selected elements\n",
    "* html() - Sets or returns the content of selected elements (including HTML markup)\n",
    "* val() - Sets or returns the value of form fields\n",
    "\n",
    "The following example demonstrates how to get content with the jQuery text() and html() methods:"
   ]
  },
  {
   "cell_type": "code",
   "execution_count": 48,
   "metadata": {},
   "outputs": [
    {
     "data": {
      "text/html": [
       "<!DOCTYPE html>\n",
       "<html>\n",
       "<head>\n",
       "<script src=\"https://ajax.googleapis.com/ajax/libs/jquery/3.4.1/jquery.min.js\"></script>\n",
       "<script>\n",
       "$(document).ready(function(){\n",
       "  $(\"#btn1\").click(function(){\n",
       "    alert(\"Text: \" + $(\"#test\").text());\n",
       "  });\n",
       "  $(\"#btn2\").click(function(){\n",
       "    alert(\"HTML: \" + $(\"#test\").html());\n",
       "  });\n",
       "});\n",
       "</script>\n",
       "</head>\n",
       "<body>\n",
       "\n",
       "<p id=\"test\">This is some <b>bold</b> text in a paragraph.</p>\n",
       "\n",
       "<button id=\"btn1\">Show Text</button>\n",
       "<button id=\"btn2\">Show HTML</button>\n",
       "\n",
       "</body>\n",
       "</html>\n"
      ],
      "text/plain": [
       "<IPython.core.display.HTML object>"
      ]
     },
     "metadata": {},
     "output_type": "display_data"
    }
   ],
   "source": [
    "%%html\n",
    "<!DOCTYPE html>\n",
    "<html>\n",
    "<head>\n",
    "<script src=\"https://ajax.googleapis.com/ajax/libs/jquery/3.4.1/jquery.min.js\"></script>\n",
    "<script>\n",
    "$(document).ready(function(){\n",
    "  $(\"#btn1\").click(function(){\n",
    "    alert(\"Text: \" + $(\"#test\").text());\n",
    "  });\n",
    "  $(\"#btn2\").click(function(){\n",
    "    alert(\"HTML: \" + $(\"#test\").html());\n",
    "  });\n",
    "});\n",
    "</script>\n",
    "</head>\n",
    "<body>\n",
    "\n",
    "<p id=\"test\">This is some <b>bold</b> text in a paragraph.</p>\n",
    "\n",
    "<button id=\"btn1\">Show Text</button>\n",
    "<button id=\"btn2\">Show HTML</button>\n",
    "\n",
    "</body>\n",
    "</html>"
   ]
  },
  {
   "cell_type": "raw",
   "metadata": {},
   "source": [
    "$(\"#btn1\").click(function(){\n",
    "  alert(\"Value: \" + $(\"#test\").val());\n",
    "});"
   ]
  },
  {
   "cell_type": "markdown",
   "metadata": {},
   "source": [
    "### Get Attributes - attr()\n",
    "* The jQuery attr() method is used to get attribute values.\n",
    "\n",
    "The following example demonstrates how to get the value of the href attribute in a link:"
   ]
  },
  {
   "cell_type": "raw",
   "metadata": {},
   "source": [
    "$(\"button\").click(function(){\n",
    "  alert($(\"#w3s\").attr(\"href\"));\n",
    "});"
   ]
  },
  {
   "cell_type": "markdown",
   "metadata": {},
   "source": [
    "### A Callback Function for text(), html(), and val()\n",
    "All of the three jQuery methods above: text(), html(), and val(), also come with a callback function. The callback function has two parameters: the index of the current element in the list of elements selected and the original (old) value. You then return the string you wish to use as the new value from the function."
   ]
  },
  {
   "cell_type": "code",
   "execution_count": 50,
   "metadata": {},
   "outputs": [
    {
     "data": {
      "text/html": [
       "<!DOCTYPE html>\n",
       "<html>\n",
       "<head>\n",
       "<script src=\"https://ajax.googleapis.com/ajax/libs/jquery/3.4.1/jquery.min.js\"></script>\n",
       "<script>\n",
       "$(document).ready(function(){\n",
       "  $(\"#btn1\").click(function(){\n",
       "    $(\"#test1\").text(function(i, origText){\n",
       "      return \"Old text: \" + origText + \" New text: Hello world! (index: \" + i + \")\"; \n",
       "    });\n",
       "  });\n",
       "\n",
       "  $(\"#btn2\").click(function(){\n",
       "    $(\"#test2\").html(function(i, origText){\n",
       "      return \"Old html: \" + origText + \" New html: Hello <b>world!</b> (index: \" + i + \")\"; \n",
       "    });\n",
       "  });\n",
       "});\n",
       "</script>\n",
       "</head>\n",
       "<body>\n",
       "\n",
       "<p id=\"test1\">This is a <b>bold</b> paragraph.</p>\n",
       "<p id=\"test2\">This is another <b>bold</b> paragraph.</p>\n",
       "\n",
       "<button id=\"btn1\">Show Old/New Text</button>\n",
       "<button id=\"btn2\">Show Old/New HTML</button>\n",
       "\n",
       "</body>\n",
       "</html>\n"
      ],
      "text/plain": [
       "<IPython.core.display.HTML object>"
      ]
     },
     "metadata": {},
     "output_type": "display_data"
    }
   ],
   "source": [
    "%%html\n",
    "<!DOCTYPE html>\n",
    "<html>\n",
    "<head>\n",
    "<script src=\"https://ajax.googleapis.com/ajax/libs/jquery/3.4.1/jquery.min.js\"></script>\n",
    "<script>\n",
    "$(document).ready(function(){\n",
    "  $(\"#btn1\").click(function(){\n",
    "    $(\"#test1\").text(function(i, origText){\n",
    "      return \"Old text: \" + origText + \" New text: Hello world! (index: \" + i + \")\"; \n",
    "    });\n",
    "  });\n",
    "\n",
    "  $(\"#btn2\").click(function(){\n",
    "    $(\"#test2\").html(function(i, origText){\n",
    "      return \"Old html: \" + origText + \" New html: Hello <b>world!</b> (index: \" + i + \")\"; \n",
    "    });\n",
    "  });\n",
    "});\n",
    "</script>\n",
    "</head>\n",
    "<body>\n",
    "\n",
    "<p id=\"test1\">This is a <b>bold</b> paragraph.</p>\n",
    "<p id=\"test2\">This is another <b>bold</b> paragraph.</p>\n",
    "\n",
    "<button id=\"btn1\">Show Old/New Text</button>\n",
    "<button id=\"btn2\">Show Old/New HTML</button>\n",
    "\n",
    "</body>\n",
    "</html>"
   ]
  },
  {
   "cell_type": "markdown",
   "metadata": {},
   "source": [
    "### Set Attributes - attr()\n",
    "The jQuery attr() method is also used to set/change attribute values."
   ]
  },
  {
   "cell_type": "raw",
   "metadata": {},
   "source": [
    "$(\"button\").click(function(){\n",
    "  $(\"#w3s\").attr(\"href\", \"https://www.w3schools.com/jquery/\");\n",
    "});"
   ]
  },
  {
   "cell_type": "raw",
   "metadata": {},
   "source": [
    "$(\"button\").click(function(){\n",
    "  $(\"#w3s\").attr({\n",
    "    \"href\" : \"https://www.w3schools.com/jquery/\",\n",
    "    \"title\" : \"W3Schools jQuery Tutorial\"\n",
    "  });\n",
    "});"
   ]
  },
  {
   "cell_type": "markdown",
   "metadata": {},
   "source": [
    "### A Callback Function for attr()\n",
    "The jQuery method attr(), also comes with a callback function. The callback function has two parameters: the index of the current element in the list of elements selected and the original (old) attribute value. You then return the string you wish to use as the new attribute value from the function."
   ]
  },
  {
   "cell_type": "raw",
   "metadata": {},
   "source": [
    "$(\"button\").click(function(){\n",
    "  $(\"#w3s\").attr(\"href\", function(i, origValue){\n",
    "    return origValue + \"/jquery/\";\n",
    "  });\n",
    "});"
   ]
  },
  {
   "cell_type": "markdown",
   "metadata": {},
   "source": [
    "### jQuery - Add Elements\n",
    "We will look at four jQuery methods that are used to add new content:\n",
    "* append() - Inserts content at the end of the selected elements\n",
    "* prepend() - Inserts content at the beginning of the selected elements\n",
    "* after() - Inserts content after the selected elements\n",
    "* before() - Inserts content before the selected elements\n",
    "\n",
    "Examples:\n",
    "* `$(\"p\").append(\"Some appended text.\");`\n",
    "* `$(\"p\").prepend(\"Some appended text.\");`\n",
    "* `$(\"img\").after(\"Some text after\");`\n",
    "* `$(\"img\").before(\"Some text before\");`\n",
    "\n",
    "Please refer this -> https://stackoverflow.com/questions/14846506/append-prepend-after-and-before <br>\n",
    "Append Example:"
   ]
  },
  {
   "cell_type": "code",
   "execution_count": 52,
   "metadata": {},
   "outputs": [
    {
     "data": {
      "text/html": [
       "<!DOCTYPE html>\n",
       "<html>\n",
       "<head>\n",
       "<script src=\"https://ajax.googleapis.com/ajax/libs/jquery/3.4.1/jquery.min.js\"></script>\n",
       "<script>\n",
       "function appendText() {\n",
       "  var txt1 = \"<p>Text.</p>\";        // Create text with HTML\n",
       "  var txt2 = $(\"<p></p>\").text(\"Text.\");  // Create text with jQuery\n",
       "  var txt3 = document.createElement(\"p\");\n",
       "  txt3.innerHTML = \"Text.\";         // Create text with DOM\n",
       "  $(\"body\").append(txt1, txt2, txt3);   // Append new elements\n",
       "}\n",
       "</script>\n",
       "</head>\n",
       "<body>\n",
       "\n",
       "<p>This is a paragraph.</p>\n",
       "<button onclick=\"appendText()\">Append text</button>\n",
       "\n",
       "</body>\n",
       "</html>\n"
      ],
      "text/plain": [
       "<IPython.core.display.HTML object>"
      ]
     },
     "metadata": {},
     "output_type": "display_data"
    }
   ],
   "source": [
    "%%html\n",
    "<!DOCTYPE html>\n",
    "<html>\n",
    "<head>\n",
    "<script src=\"https://ajax.googleapis.com/ajax/libs/jquery/3.4.1/jquery.min.js\"></script>\n",
    "<script>\n",
    "function appendText() {\n",
    "  var txt1 = \"<p>Text.</p>\";        // Create text with HTML\n",
    "  var txt2 = $(\"<p></p>\").text(\"Text.\");  // Create text with jQuery\n",
    "  var txt3 = document.createElement(\"p\");\n",
    "  txt3.innerHTML = \"Text.\";         // Create text with DOM\n",
    "  $(\"body\").append(txt1, txt2, txt3);   // Append new elements\n",
    "}\n",
    "</script>\n",
    "</head>\n",
    "<body>\n",
    "\n",
    "<p>This is a paragraph.</p>\n",
    "<button onclick=\"appendText()\">Append text</button>\n",
    "\n",
    "</body>\n",
    "</html>"
   ]
  },
  {
   "cell_type": "code",
   "execution_count": 53,
   "metadata": {},
   "outputs": [
    {
     "data": {
      "text/html": [
       "<!DOCTYPE html>\n",
       "<html>\n",
       "<head>\n",
       "<script src=\"https://ajax.googleapis.com/ajax/libs/jquery/3.4.1/jquery.min.js\"></script>\n",
       "<script>\n",
       "function afterText() {\n",
       "  var txt1 = \"<b>I </b>\";           // Create element with HTML\n",
       "  var txt2 = $(\"<i></i>\").text(\"love \");  // Create with jQuery\n",
       "  var txt3 = document.createElement(\"b\");   // Create with DOM\n",
       "  txt3.innerHTML = \"jQuery!\";\n",
       "  $(\"img\").after(txt1, txt2, txt3);    // Insert new elements after img\n",
       "}\n",
       "</script>\n",
       "</head>\n",
       "<body>\n",
       "\n",
       "<img src=\"/images/w3jquery.gif\" alt=\"jQuery\" width=\"100\" height=\"140\">\n",
       "\n",
       "<p>Click the button to insert text after the image.</p>\n",
       "\n",
       "<button onclick=\"afterText()\">Insert after</button>\n",
       "\n",
       "</body>\n",
       "</html>\n"
      ],
      "text/plain": [
       "<IPython.core.display.HTML object>"
      ]
     },
     "metadata": {},
     "output_type": "display_data"
    }
   ],
   "source": [
    "%%html\n",
    "<!DOCTYPE html>\n",
    "<html>\n",
    "<head>\n",
    "<script src=\"https://ajax.googleapis.com/ajax/libs/jquery/3.4.1/jquery.min.js\"></script>\n",
    "<script>\n",
    "function afterText() {\n",
    "  var txt1 = \"<b>I </b>\";           // Create element with HTML\n",
    "  var txt2 = $(\"<i></i>\").text(\"love \");  // Create with jQuery\n",
    "  var txt3 = document.createElement(\"b\");   // Create with DOM\n",
    "  txt3.innerHTML = \"jQuery!\";\n",
    "  $(\"img\").after(txt1, txt2, txt3);    // Insert new elements after img\n",
    "}\n",
    "</script>\n",
    "</head>\n",
    "<body>\n",
    "\n",
    "<img src=\"/images/w3jquery.gif\" alt=\"jQuery\" width=\"100\" height=\"140\">\n",
    "\n",
    "<p>Click the button to insert text after the image.</p>\n",
    "\n",
    "<button onclick=\"afterText()\">Insert after</button>\n",
    "\n",
    "</body>\n",
    "</html>"
   ]
  },
  {
   "cell_type": "markdown",
   "metadata": {},
   "source": [
    "### Remove Elements/Content\n",
    "To remove elements and content, there are mainly two jQuery methods:\n",
    "* remove() - Removes the selected element (and its child elements) -> `$(\"#div1\").remove();`\n",
    "* empty() - Removes the child elements from the selected element -> `$(\"#div1\").empty();`\n",
    "\n",
    "### Filter the Elements to be Removed\n",
    "The jQuery remove() method also accepts one parameter, which allows you to filter the elements to be removed.\n",
    "The parameter can be any of the jQuery selector syntaxes.\n",
    "The following example removes all <p> elements with class=\"test\":  \n",
    "* `$(\"p\").remove(\".test\");` -> removes all `<p>` elements with class=\"test\"\n",
    "* `$(\"p\").remove(\".test, .demo\");` -> removes all `<p>` elements with class=\"test\" or class=\"demo\"\n",
    "\n",
    "### jQuery Manipulating CSS\n",
    "jQuery has several methods for CSS manipulation. We will look at the following methods:\n",
    "\n",
    "* `addClass()` - Adds one or more classes to the selected elements\n",
    "* `removeClass()` - Removes one or more classes from the selected elements\n",
    "* `toggleClass()` - Toggles between adding/removing classes from the selected elements\n",
    "* `css()` - Sets or returns the style attribute\n",
    "\n",
    "The following Stylesheet is for example:"
   ]
  },
  {
   "cell_type": "raw",
   "metadata": {},
   "source": [
    ".important {\n",
    "  font-weight: bold;\n",
    "  font-size: xx-large;\n",
    "}\n",
    "\n",
    ".blue {\n",
    "  color: blue;\n",
    "}"
   ]
  },
  {
   "cell_type": "markdown",
   "metadata": {},
   "source": [
    "### CSS Property\n",
    "`$(\"p\").css(\"propertyname\");`\n",
    "`$(\"p\").css(\"propertyname\",\"value\");`\n",
    "`$(\"p\").css({\"propertyname\":\"value\",\"propertyname\":\"value\",...});`\n",
    "\n",
    "### jQuery Dimension Methods\n",
    "jQuery has several important methods for working with dimensions:\n",
    "\n",
    "* width() -> The width() method sets or returns the width of an element (excludes padding, border and margin).\n",
    "* height() -> The height() method sets or returns the height of an element (excludes padding, border and margin).\n",
    "* innerWidth() -> The innerWidth() method returns the width of an element (includes padding).\n",
    "* innerHeight() -> The innerHeight() method returns the height of an element (includes padding).\n",
    "* outerWidth() -> The outerWidth() method returns the width of an element (includes padding and border).\n",
    "* outerHeight() -> The outerHeight() method returns the height of an element (includes padding and border).\n",
    "* outerWidth(true) -> The outerWidth() method returns the width of an element (includes padding and border).\n",
    "* outerHeight(true) -> The outerHeight() method returns the height of an element (includes padding and border).\n",
    "\n",
    "### jQuery Traversing - Ancestors\n",
    "Three useful jQuery methods for traversing up the DOM tree are:\n",
    "* parent() -> The parent() method returns the direct parent element of the selected element.\n",
    "* parents() -> The parents() method returns all ancestor elements of the selected element, all the way up to the document's root element (<html>).You can use optional parameter to filter items.\n",
    "* parentsUntil() -> The parentsUntil() method returns all ancestor elements between two given arguments."
   ]
  },
  {
   "cell_type": "code",
   "execution_count": 54,
   "metadata": {},
   "outputs": [
    {
     "data": {
      "text/html": [
       "<!DOCTYPE html>\n",
       "<html>\n",
       "<head>\n",
       "<style>\n",
       ".ancestors * { \n",
       "  display: block;\n",
       "  border: 2px solid lightgrey;\n",
       "  color: lightgrey;\n",
       "  padding: 5px;\n",
       "  margin: 15px;\n",
       "}\n",
       "</style>\n",
       "<script src=\"https://ajax.googleapis.com/ajax/libs/jquery/3.4.1/jquery.min.js\"></script>\n",
       "<script>\n",
       "$(document).ready(function(){\n",
       "  $(\"span\").parents(\"ul\").css({\"color\": \"red\", \"border\": \"2px solid red\"});\n",
       "});\n",
       "</script>\n",
       "</head>\n",
       "\n",
       "<body class=\"ancestors\">body (great-great-grandparent)\n",
       "  <div style=\"width:500px;\">div (great-grandparent)\n",
       "    <ul>ul (grandparent)  \n",
       "      <li>li (direct parent)\n",
       "        <span>span</span>\n",
       "      </li>\n",
       "    </ul>   \n",
       "  </div>\n",
       "</body>\n",
       "\n",
       "</html>\n"
      ],
      "text/plain": [
       "<IPython.core.display.HTML object>"
      ]
     },
     "metadata": {},
     "output_type": "display_data"
    }
   ],
   "source": [
    "%%html\n",
    "<!DOCTYPE html>\n",
    "<html>\n",
    "<head>\n",
    "<style>\n",
    ".ancestors * { \n",
    "  display: block;\n",
    "  border: 2px solid lightgrey;\n",
    "  color: lightgrey;\n",
    "  padding: 5px;\n",
    "  margin: 15px;\n",
    "}\n",
    "</style>\n",
    "<script src=\"https://ajax.googleapis.com/ajax/libs/jquery/3.4.1/jquery.min.js\"></script>\n",
    "<script>\n",
    "$(document).ready(function(){\n",
    "  $(\"span\").parents(\"ul\").css({\"color\": \"red\", \"border\": \"2px solid red\"});\n",
    "});\n",
    "</script>\n",
    "</head>\n",
    "\n",
    "<body class=\"ancestors\">body (great-great-grandparent)\n",
    "  <div style=\"width:500px;\">div (great-grandparent)\n",
    "    <ul>ul (grandparent)  \n",
    "      <li>li (direct parent)\n",
    "        <span>span</span>\n",
    "      </li>\n",
    "    </ul>   \n",
    "  </div>\n",
    "</body>\n",
    "\n",
    "</html>"
   ]
  },
  {
   "cell_type": "markdown",
   "metadata": {},
   "source": [
    "### jQuery Traversing - Descendants\n",
    "Two useful jQuery methods for traversing down the DOM tree are:\n",
    "* `children()` -> The children() method returns all direct children of the selected element. You can have filter criteria set in optional parameters.\n",
    "* `find()` -> The find() method returns descendant elements of the selected element, all the way down to the last descendant. Provide the element that you want to search for."
   ]
  },
  {
   "cell_type": "markdown",
   "metadata": {},
   "source": [
    "### There are many useful jQuery methods for traversing sideways in the DOM tree:\n",
    "* `siblings()` -> The siblings() method returns all sibling elements of the selected element. Optional parameter for selecting.\n",
    "* `next()` -> The next() method returns the next sibling element of the selected element.\n",
    "* `nextAll()` -> The nextAll() method returns all next sibling elements of the selected element.\n",
    "* `nextUntil()` -> The nextUntil() method returns all next sibling elements between two given arguments. Parameter to get all elements between two. `$(\"h2\").nextUntil(\"h6\");`\n",
    "* `prev()` -> The prev() method returns the prev sibling element of the selected element.\n",
    "* `prevAll()` -> The prevAll() method returns all previous sibling elements of the selected element.\n",
    "* `prevUntil()` -> The prevUntil() method returns all previous sibling elements between two given arguments. Parameter to get all elements between two. `$(\"h2\").prevUntil(\"h6\");`\n",
    "\n",
    "### jQuery Traversing - Filtering\n",
    "* The `first()` method returns the first element of the specified elements. -> `$(\"div\").first();`\n",
    "* The `last()` method returns the last element of the specified elements. -> `$(\"div\").last();`\n",
    "* The `eq()` method returns an element with a specific index number of the selected elements. -> `$(\"p\").eq(1);`\n",
    "* The `filter()` method lets you specify a criteria. Elements that do not match the criteria are removed from the selection, and those that match will be returned. -> `$(\"p\").filter(\".intro\");`\n",
    "* The `not()` method returns all elements that do not match the criteria. Tip: The not() method is the opposite of filter(). -> `$(\"p\").not(\".intro\");`"
   ]
  },
  {
   "cell_type": "markdown",
   "metadata": {},
   "source": [
    "### What is AJAX?\n",
    "* AJAX = Asynchronous JavaScript and XML.\n",
    "* In short; AJAX is about loading data in the background and display it on the webpage, without reloading the whole page.\n",
    "* jQuery provides several methods for AJAX functionality.\n",
    "* With the jQuery AJAX methods, you can request text, HTML, XML, or JSON from a remote server using both HTTP Get and HTTP Post - And you can load the external data directly into the selected HTML elements of your web page!\n",
    "\n",
    "Without jQuery, AJAX coding can be a bit tricky!<br>\n",
    "Writing regular AJAX code can be a bit tricky, because different browsers have different syntax for AJAX implementation. This means that you will have to write extra code to test for different browsers. However, the jQuery team has taken care of this for us, so that we can write AJAX functionality with only one single line of code.\n",
    "\n",
    "### jQuery - AJAX load() Method\n",
    "* The jQuery load() method is a simple, but powerful AJAX method.\n",
    "* The load() method loads data from a server and puts the returned data into the selected element.\n",
    "* `$(selector).load(URL,data,callback);`\n",
    "\n",
    "Example:\n",
    "* $(\"#div1\").load(\"demo_test.txt #p1\");\n",
    "* The above line gets the data in demo_test.txt and filters the content to get the elements with id p1, And stores them in element with id div1.\n",
    "\n",
    "The optional callback parameter specifies a callback function to run when the load() method is completed. The callback function can have different parameters:\n",
    "* responseTxt - contains the resulting content if the call succeeds\n",
    "* statusTxt - contains the status of the call\n",
    "* xhr - contains the XMLHttpRequest object"
   ]
  },
  {
   "cell_type": "raw",
   "metadata": {},
   "source": [
    "$(\"button\").click(function(){\n",
    "  $(\"#div1\").load(\"demo_test.txt\", function(responseTxt, statusTxt, xhr){\n",
    "    if(statusTxt == \"success\")\n",
    "      alert(\"External content loaded successfully!\");\n",
    "    if(statusTxt == \"error\")\n",
    "      alert(\"Error: \" + xhr.status + \": \" + xhr.statusText);\n",
    "  });\n",
    "});"
   ]
  },
  {
   "cell_type": "markdown",
   "metadata": {},
   "source": [
    "### jQuery - AJAX get() and post() Methods\n",
    "The jQuery get() and post() methods are used to request data from the server with an HTTP GET or POST request.\n",
    "* GET - Requests data from a specified resource\n",
    "* POST - Submits data to be processed to a specified resource\n",
    "* GET is basically used for just getting (retrieving) some data from the server. Note: The GET method may return cached data.\n",
    "* POST can also be used to get some data from the server. However, the POST method NEVER caches data, and is often used to send data along with the request.\n",
    "\n",
    "#### jQuery  `$.get()` Method\n",
    "* `$.get(URL,callback);` -> The $.get() method requests data from the server with an HTTP GET request."
   ]
  },
  {
   "cell_type": "raw",
   "metadata": {},
   "source": [
    "$(\"button\").click(function(){\n",
    "  $.get(\"demo_test.asp\", function(data, status){\n",
    "    alert(\"Data: \" + data + \"\\nStatus: \" + status);\n",
    "  });\n",
    "});"
   ]
  },
  {
   "cell_type": "markdown",
   "metadata": {},
   "source": [
    "#### jQuery `$.post()` Method\n",
    "* `$.post(URL,data,callback);` -> The `$.post()` method requests data from the server using an HTTP POST request."
   ]
  },
  {
   "cell_type": "raw",
   "metadata": {},
   "source": [
    "$(\"button\").click(function(){\n",
    "  $.post(\"demo_test_post.asp\",\n",
    "  {\n",
    "    name: \"Donald Duck\",\n",
    "    city: \"Duckburg\"\n",
    "  },\n",
    "  function(data, status){\n",
    "    alert(\"Data: \" + data + \"\\nStatus: \" + status);\n",
    "  });\n",
    "});"
   ]
  },
  {
   "cell_type": "markdown",
   "metadata": {},
   "source": [
    "### The jQuery noConflict() Method\n",
    "* The `noConflict()` method releases the hold on the `$` shortcut identifier, so that other scripts can use it.\n",
    "* You can of course still use jQuery, simply by writing the full name instead of the shortcut:\n"
   ]
  },
  {
   "cell_type": "raw",
   "metadata": {},
   "source": [
    "$.noConflict();\n",
    "jQuery(document).ready(function(){\n",
    "  jQuery(\"button\").click(function(){\n",
    "    jQuery(\"p\").text(\"jQuery is still working!\");\n",
    "  });\n",
    "});"
   ]
  },
  {
   "cell_type": "markdown",
   "metadata": {},
   "source": [
    "You can also create your own shortcut very easily. The noConflict() method returns a reference to jQuery, that you can save in a variable, for later use. Here is an example:"
   ]
  },
  {
   "cell_type": "raw",
   "metadata": {},
   "source": [
    "var jq = $.noConflict();\n",
    "jq(document).ready(function(){\n",
    "  jq(\"button\").click(function(){\n",
    "    jq(\"p\").text(\"jQuery is still working!\");\n",
    "  });\n",
    "});"
   ]
  },
  {
   "cell_type": "markdown",
   "metadata": {},
   "source": [
    "If you have a block of jQuery code which uses the `$` shortcut and you do not want to change it all, you can pass the `$` sign in as a parameter to the ready method. This allows you to access jQuery using `$`, inside this function - outside of it, you will have to use \"jQuery\":"
   ]
  },
  {
   "cell_type": "raw",
   "metadata": {},
   "source": [
    "$.noConflict();\n",
    "jQuery(document).ready(function($){\n",
    "  $(\"button\").click(function(){\n",
    "    $(\"p\").text(\"jQuery is still working!\");\n",
    "  });\n",
    "});"
   ]
  },
  {
   "cell_type": "code",
   "execution_count": 55,
   "metadata": {},
   "outputs": [
    {
     "data": {
      "text/html": [
       "<!DOCTYPE html>\n",
       "<html>\n",
       "<head>\n",
       "<script src=\"https://ajax.googleapis.com/ajax/libs/jquery/3.4.1/jquery.min.js\"></script>\n",
       "<script>\n",
       "$(document).ready(function(){\n",
       "  $(\"#myInput\").on(\"keyup\", function() {\n",
       "    var value = $(this).val().toLowerCase();\n",
       "    $(\"#myTable tr\").filter(function() {\n",
       "      $(this).toggle($(this).text().toLowerCase().indexOf(value) > -1)\n",
       "    });\n",
       "  });\n",
       "});\n",
       "</script>\n",
       "<style>\n",
       "table {\n",
       "  font-family: arial, sans-serif;\n",
       "  border-collapse: collapse;\n",
       "  width: 100%;\n",
       "}\n",
       "\n",
       "td, th {\n",
       "  border: 1px solid #dddddd;\n",
       "  text-align: left;\n",
       "  padding: 8px;\n",
       "}\n",
       "\n",
       "tr:nth-child(even) {\n",
       "  background-color: #dddddd;\n",
       "}\n",
       "</style>\n",
       "</head>\n",
       "<body>\n",
       "\n",
       "<h2>Filterable Table</h2>\n",
       "<p>Type something in the input field to search the table for first names, last names or emails:</p>  \n",
       "<input id=\"myInput\" type=\"text\" placeholder=\"Search..\">\n",
       "<br><br>\n",
       "\n",
       "<table>\n",
       "  <thead>\n",
       "  <tr>\n",
       "    <th>Firstname</th>\n",
       "    <th>Lastname</th>\n",
       "    <th>Email</th>\n",
       "  </tr>\n",
       "  </thead>\n",
       "  <tbody id=\"myTable\">\n",
       "  <tr>\n",
       "    <td>John</td>\n",
       "    <td>Doe</td>\n",
       "    <td>john@example.com</td>\n",
       "  </tr>\n",
       "  <tr>\n",
       "    <td>Mary</td>\n",
       "    <td>Moe</td>\n",
       "    <td>mary@mail.com</td>\n",
       "  </tr>\n",
       "  <tr>\n",
       "    <td>July</td>\n",
       "    <td>Dooley</td>\n",
       "    <td>july@greatstuff.com</td>\n",
       "  </tr>\n",
       "  <tr>\n",
       "    <td>Anja</td>\n",
       "    <td>Ravendale</td>\n",
       "    <td>a_r@test.com</td>\n",
       "  </tr>\n",
       "  </tbody>\n",
       "</table>\n",
       "  \n",
       "<p>Note that we start the search in tbody, to prevent filtering the table headers.</p>\n",
       "\n",
       "</body>\n",
       "</html>\n"
      ],
      "text/plain": [
       "<IPython.core.display.HTML object>"
      ]
     },
     "metadata": {},
     "output_type": "display_data"
    }
   ],
   "source": [
    "%%html\n",
    "<!DOCTYPE html>\n",
    "<html>\n",
    "<head>\n",
    "<script src=\"https://ajax.googleapis.com/ajax/libs/jquery/3.4.1/jquery.min.js\"></script>\n",
    "<script>\n",
    "$(document).ready(function(){\n",
    "  $(\"#myInput\").on(\"keyup\", function() {\n",
    "    var value = $(this).val().toLowerCase();\n",
    "    $(\"#myTable tr\").filter(function() {\n",
    "      $(this).toggle($(this).text().toLowerCase().indexOf(value) > -1)\n",
    "    });\n",
    "  });\n",
    "});\n",
    "</script>\n",
    "<style>\n",
    "table {\n",
    "  font-family: arial, sans-serif;\n",
    "  border-collapse: collapse;\n",
    "  width: 100%;\n",
    "}\n",
    "\n",
    "td, th {\n",
    "  border: 1px solid #dddddd;\n",
    "  text-align: left;\n",
    "  padding: 8px;\n",
    "}\n",
    "\n",
    "tr:nth-child(even) {\n",
    "  background-color: #dddddd;\n",
    "}\n",
    "</style>\n",
    "</head>\n",
    "<body>\n",
    "\n",
    "<h2>Filterable Table</h2>\n",
    "<p>Type something in the input field to search the table for first names, last names or emails:</p>  \n",
    "<input id=\"myInput\" type=\"text\" placeholder=\"Search..\">\n",
    "<br><br>\n",
    "\n",
    "<table>\n",
    "  <thead>\n",
    "  <tr>\n",
    "    <th>Firstname</th>\n",
    "    <th>Lastname</th>\n",
    "    <th>Email</th>\n",
    "  </tr>\n",
    "  </thead>\n",
    "  <tbody id=\"myTable\">\n",
    "  <tr>\n",
    "    <td>John</td>\n",
    "    <td>Doe</td>\n",
    "    <td>john@example.com</td>\n",
    "  </tr>\n",
    "  <tr>\n",
    "    <td>Mary</td>\n",
    "    <td>Moe</td>\n",
    "    <td>mary@mail.com</td>\n",
    "  </tr>\n",
    "  <tr>\n",
    "    <td>July</td>\n",
    "    <td>Dooley</td>\n",
    "    <td>july@greatstuff.com</td>\n",
    "  </tr>\n",
    "  <tr>\n",
    "    <td>Anja</td>\n",
    "    <td>Ravendale</td>\n",
    "    <td>a_r@test.com</td>\n",
    "  </tr>\n",
    "  </tbody>\n",
    "</table>\n",
    "  \n",
    "<p>Note that we start the search in tbody, to prevent filtering the table headers.</p>\n",
    "\n",
    "</body>\n",
    "</html>"
   ]
  },
  {
   "cell_type": "code",
   "execution_count": null,
   "metadata": {},
   "outputs": [],
   "source": []
  }
 ],
 "metadata": {
  "kernelspec": {
   "display_name": "Python 3",
   "language": "python",
   "name": "python3"
  },
  "language_info": {
   "codemirror_mode": {
    "name": "ipython",
    "version": 3
   },
   "file_extension": ".py",
   "mimetype": "text/x-python",
   "name": "python",
   "nbconvert_exporter": "python",
   "pygments_lexer": "ipython3",
   "version": "3.7.3"
  }
 },
 "nbformat": 4,
 "nbformat_minor": 2
}
